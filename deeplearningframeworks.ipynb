{
  "nbformat": 4,
  "nbformat_minor": 0,
  "metadata": {
    "colab": {
      "provenance": []
    },
    "kernelspec": {
      "name": "python3",
      "display_name": "Python 3"
    },
    "language_info": {
      "name": "python"
    }
  },
  "cells": [
    {
      "cell_type": "markdown",
      "source": [
        "# DEEP LEARNING FRAMEWORKS"
      ],
      "metadata": {
        "id": "m5VjmTPEvzko"
      }
    },
    {
      "cell_type": "markdown",
      "source": [
        "#Theoretical Questions : -"
      ],
      "metadata": {
        "id": "a8_na4QDwC39"
      }
    },
    {
      "cell_type": "markdown",
      "source": [
        "1.What is TensorFlow 2.0, and how is it different from TensorFlow 1.x?\n",
        "- TensorFlow 2.0 represents a major upgrade from TensorFlow 1.x, focusing on ease of use, clarity, and flexibility. Key differences include:\n",
        "\n",
        "  - Eager Execution : TensorFlow 2.0 enables eager execution by default, which means operations are executed immediately as they are called. This makes debugging and developing models much more intuitive compared to TensorFlow 1.x's static graph execution. In TensorFlow 1.x, you had to build a computational graph first and then run it within a session.\n",
        "  - Keras Integration : Keras is the official high-level API for TensorFlow 2.0. It provides a more user-friendly and Pythonic way to build and train deep learning models. While Keras could be used with TensorFlow 1.x, it's deeply integrated and recommended in TensorFlow 2.0.\n",
        "  - Function-Based API (tf.function) : To maintain performance while still benefiting from eager execution, TensorFlow 2.0 introduces tf.function. This decorator allows you to convert standard Python functions into callable TensorFlow graphs, offering the benefits of graph execution (like optimization and distribution) without the complexity of sessions.\n",
        "  - Simplified APIs : Many APIs were cleaned up and simplified in TensorFlow 2.0. Redundant APIs were removed, and existing ones were made more consistent and easier to use.\n",
        "  - Distributed Training : TensorFlow 2.0 simplifies distributed training with APIs like tf.distribute.Strategy, making it easier to scale model training across multiple GPUs or machines.\n",
        "- In summary, TensorFlow 2.0 is designed to be more user-friendly and Pythonic, making it easier to build, debug, and deploy machine learning models. The shift to eager execution by default and the emphasis on Keras as the primary API are major changes aimed at improving the developer experience."
      ],
      "metadata": {
        "id": "r1N3EvjBwQFe"
      }
    },
    {
      "cell_type": "markdown",
      "source": [
        "2.How do you install TensorFlow 2.0?\n",
        "- To install TensorFlow 2.0, the recommended method is to use pip, Python's package installer. First, ensure you have Python installed (version 3.5 or higher is recommended).Then, create a virtual environment to isolate your TensorFlow project.\n",
        "- Finally, use pip install tensorflow to install the latest stable release of TensorFlow."
      ],
      "metadata": {
        "id": "CK5R0YSaxLfD"
      }
    },
    {
      "cell_type": "code",
      "metadata": {
        "colab": {
          "base_uri": "https://localhost:8080/"
        },
        "collapsed": true,
        "id": "ee0039ae",
        "outputId": "b2ed4792-fd1d-4d70-d1fb-403a44974bef"
      },
      "source": [
        "!pip install tensorflow"
      ],
      "execution_count": null,
      "outputs": [
        {
          "output_type": "stream",
          "name": "stdout",
          "text": [
            "Requirement already satisfied: tensorflow in /usr/local/lib/python3.11/dist-packages (2.18.0)\n",
            "Requirement already satisfied: absl-py>=1.0.0 in /usr/local/lib/python3.11/dist-packages (from tensorflow) (1.4.0)\n",
            "Requirement already satisfied: astunparse>=1.6.0 in /usr/local/lib/python3.11/dist-packages (from tensorflow) (1.6.3)\n",
            "Requirement already satisfied: flatbuffers>=24.3.25 in /usr/local/lib/python3.11/dist-packages (from tensorflow) (25.2.10)\n",
            "Requirement already satisfied: gast!=0.5.0,!=0.5.1,!=0.5.2,>=0.2.1 in /usr/local/lib/python3.11/dist-packages (from tensorflow) (0.6.0)\n",
            "Requirement already satisfied: google-pasta>=0.1.1 in /usr/local/lib/python3.11/dist-packages (from tensorflow) (0.2.0)\n",
            "Requirement already satisfied: libclang>=13.0.0 in /usr/local/lib/python3.11/dist-packages (from tensorflow) (18.1.1)\n",
            "Requirement already satisfied: opt-einsum>=2.3.2 in /usr/local/lib/python3.11/dist-packages (from tensorflow) (3.4.0)\n",
            "Requirement already satisfied: packaging in /usr/local/lib/python3.11/dist-packages (from tensorflow) (24.2)\n",
            "Requirement already satisfied: protobuf!=4.21.0,!=4.21.1,!=4.21.2,!=4.21.3,!=4.21.4,!=4.21.5,<6.0.0dev,>=3.20.3 in /usr/local/lib/python3.11/dist-packages (from tensorflow) (5.29.5)\n",
            "Requirement already satisfied: requests<3,>=2.21.0 in /usr/local/lib/python3.11/dist-packages (from tensorflow) (2.32.3)\n",
            "Requirement already satisfied: setuptools in /usr/local/lib/python3.11/dist-packages (from tensorflow) (75.2.0)\n",
            "Requirement already satisfied: six>=1.12.0 in /usr/local/lib/python3.11/dist-packages (from tensorflow) (1.17.0)\n",
            "Requirement already satisfied: termcolor>=1.1.0 in /usr/local/lib/python3.11/dist-packages (from tensorflow) (3.1.0)\n",
            "Requirement already satisfied: typing-extensions>=3.6.6 in /usr/local/lib/python3.11/dist-packages (from tensorflow) (4.14.0)\n",
            "Requirement already satisfied: wrapt>=1.11.0 in /usr/local/lib/python3.11/dist-packages (from tensorflow) (1.17.2)\n",
            "Requirement already satisfied: grpcio<2.0,>=1.24.3 in /usr/local/lib/python3.11/dist-packages (from tensorflow) (1.73.0)\n",
            "Requirement already satisfied: tensorboard<2.19,>=2.18 in /usr/local/lib/python3.11/dist-packages (from tensorflow) (2.18.0)\n",
            "Requirement already satisfied: keras>=3.5.0 in /usr/local/lib/python3.11/dist-packages (from tensorflow) (3.8.0)\n",
            "Requirement already satisfied: numpy<2.1.0,>=1.26.0 in /usr/local/lib/python3.11/dist-packages (from tensorflow) (2.0.2)\n",
            "Requirement already satisfied: h5py>=3.11.0 in /usr/local/lib/python3.11/dist-packages (from tensorflow) (3.14.0)\n",
            "Requirement already satisfied: ml-dtypes<0.5.0,>=0.4.0 in /usr/local/lib/python3.11/dist-packages (from tensorflow) (0.4.1)\n",
            "Requirement already satisfied: tensorflow-io-gcs-filesystem>=0.23.1 in /usr/local/lib/python3.11/dist-packages (from tensorflow) (0.37.1)\n",
            "Requirement already satisfied: wheel<1.0,>=0.23.0 in /usr/local/lib/python3.11/dist-packages (from astunparse>=1.6.0->tensorflow) (0.45.1)\n",
            "Requirement already satisfied: rich in /usr/local/lib/python3.11/dist-packages (from keras>=3.5.0->tensorflow) (13.9.4)\n",
            "Requirement already satisfied: namex in /usr/local/lib/python3.11/dist-packages (from keras>=3.5.0->tensorflow) (0.1.0)\n",
            "Requirement already satisfied: optree in /usr/local/lib/python3.11/dist-packages (from keras>=3.5.0->tensorflow) (0.16.0)\n",
            "Requirement already satisfied: charset-normalizer<4,>=2 in /usr/local/lib/python3.11/dist-packages (from requests<3,>=2.21.0->tensorflow) (3.4.2)\n",
            "Requirement already satisfied: idna<4,>=2.5 in /usr/local/lib/python3.11/dist-packages (from requests<3,>=2.21.0->tensorflow) (3.10)\n",
            "Requirement already satisfied: urllib3<3,>=1.21.1 in /usr/local/lib/python3.11/dist-packages (from requests<3,>=2.21.0->tensorflow) (2.4.0)\n",
            "Requirement already satisfied: certifi>=2017.4.17 in /usr/local/lib/python3.11/dist-packages (from requests<3,>=2.21.0->tensorflow) (2025.6.15)\n",
            "Requirement already satisfied: markdown>=2.6.8 in /usr/local/lib/python3.11/dist-packages (from tensorboard<2.19,>=2.18->tensorflow) (3.8.2)\n",
            "Requirement already satisfied: tensorboard-data-server<0.8.0,>=0.7.0 in /usr/local/lib/python3.11/dist-packages (from tensorboard<2.19,>=2.18->tensorflow) (0.7.2)\n",
            "Requirement already satisfied: werkzeug>=1.0.1 in /usr/local/lib/python3.11/dist-packages (from tensorboard<2.19,>=2.18->tensorflow) (3.1.3)\n",
            "Requirement already satisfied: MarkupSafe>=2.1.1 in /usr/local/lib/python3.11/dist-packages (from werkzeug>=1.0.1->tensorboard<2.19,>=2.18->tensorflow) (3.0.2)\n",
            "Requirement already satisfied: markdown-it-py>=2.2.0 in /usr/local/lib/python3.11/dist-packages (from rich->keras>=3.5.0->tensorflow) (3.0.0)\n",
            "Requirement already satisfied: pygments<3.0.0,>=2.13.0 in /usr/local/lib/python3.11/dist-packages (from rich->keras>=3.5.0->tensorflow) (2.19.2)\n",
            "Requirement already satisfied: mdurl~=0.1 in /usr/local/lib/python3.11/dist-packages (from markdown-it-py>=2.2.0->rich->keras>=3.5.0->tensorflow) (0.1.2)\n"
          ]
        }
      ]
    },
    {
      "cell_type": "markdown",
      "source": [
        "3.What is the primary function of the tf.function in TensorFlow 2.0?\n",
        "- The primary function of tf.function in TensorFlow 2.0 is to transform regular Python functions into optimized TensorFlow graph operations. This allows you to leverage the benefits of graph-based execution while maintaining a more Pythonic coding style.\n",
        "- In essence, tf.function acts as a compiler for your TensorFlow code, allowing TensorFlow to optimize and accelerate the execution of your Python function."
      ],
      "metadata": {
        "id": "GZfvokc9zfPB"
      }
    },
    {
      "cell_type": "markdown",
      "source": [
        "4.What is the purpose of the Model class in TensorFlow 2.0?\n",
        "- The `Model` class in TensorFlow 2.0 is a central abstraction for defining and training machine learning models. It encapsulates layers, metrics, loss functions, and optimizers, making it easier to build, train, and evaluate complex models.\n",
        "\n",
        "- Key aspects of the `Model` class:\n",
        "  - Layer composition : You can build models by stacking or connecting layers using the `Model` class. This allows for creating complex network architectures.\n",
        "  - Training and evaluation : The `Model` class provides built-in methods for training (`fit`), evaluation (`evaluate`), and prediction (`predict`), simplifying the training workflow.\n",
        "  - Saving and loading : Models can be easily saved and loaded, enabling you to persist trained models and reuse them later.\n",
        "  - Abstraction : It provides a high-level interface for interacting with your model, hiding the underlying complexities of graph execution.\n",
        "\n",
        "- In essence, the `Model` class provides a structured and convenient way to define, train, and manage your deep learning models in TensorFlow 2.0."
      ],
      "metadata": {
        "id": "Jgm_Afwe0CiI"
      }
    },
    {
      "cell_type": "markdown",
      "source": [
        "5.How do you create a neural network using TensorFlow 2.0?\n",
        "- You can create a neural network using TensorFlow 2.0 primarily through the Keras API, which is the recommended high-level API. Keras provides a simple and intuitive way to define and train models.\n",
        "\n",
        "- Here's a basic example of creating a simple sequential neural network:\n",
        "\n",
        "  - Import necessary libraries : Import TensorFlow and the `Sequential` model and `Dense` layer from Keras.\n",
        "  - Define the model : Use `tf.keras.Sequential` to create a linear stack of layers.\n",
        "  - Add layers : Add layers to the model using `.add()`. Common layers include `Dense` (for fully connected layers), `Conv2D` (for convolutional layers), `MaxPooling2D` (for pooling layers), etc.\n",
        "  - Compile the model : Configure the model for training using `.compile()`. You need to specify an optimizer, a loss function, and metrics.\n",
        "  - Train the model : Train the model using `.fit()` with your training data.\n",
        "  - Evaluate the model : Evaluate the model's performance using `.evaluate()` with your test data.\n",
        "  - Make predictions : Use `.predict()` to make predictions on new data.\n"
      ],
      "metadata": {
        "id": "z3P-Om2x1YfJ"
      }
    },
    {
      "cell_type": "markdown",
      "source": [
        "6.What is the importance of Tensor Space in TensorFlow?\n",
        "- In TensorFlow, the concept of \"Tensor Space\" is fundamental.\n",
        "- While TensorFlow doesn't explicitly define a single \"Tensor Space\" as a distinct object or class, the term refers to the mathematical space in which tensors reside and operate.\n",
        "- Understanding this is crucial because TensorFlow's core operations are performed on tensors.\n",
        "- Here's why the concept of Tensor Space is important :\n",
        "  - Data Representation : Tensors are the primary way data is represented in TensorFlow. They are multi-dimensional arrays, and the \"space\" they inhabit is defined by their rank (number of dimensions) and shape (size of each dimension). Different types of data (scalars, vectors, matrices, etc.) correspond to tensors in different tensor spaces.\n",
        "  - Mathematical Operations : TensorFlow provides a rich set of mathematical operations that are designed to work on tensors. These operations transform tensors from one tensor space to another. For example, matrix multiplication takes two tensors and produces a new tensor in a different tensor space (defined by the resulting matrix dimensions).\n",
        "  - Neural Network Layers : The layers in a neural network can be viewed as functions that transform tensors from an input tensor space to an output tensor space. For instance, a dense layer takes an input tensor (representing a batch of data) and transforms it into an output tensor after applying weights and biases.\n",
        "  - Computational Graph : In TensorFlow 1.x, the computational graph explicitly defined the flow of tensors through operations. While TensorFlow 2.0 uses eager execution by default, the underlying operations still operate on tensors and can be represented as a graph using tf.function. The \"tensor space\" of each tensor at different points in the graph is implicitly defined by the preceding operations.\n",
        "  - Shape and Rank : Understanding the shape and rank of tensors is essential for building and debugging TensorFlow models. Incorrect tensor shapes can lead to errors when performing operations. The concept of tensor space helps in visualizing and reasoning about how data flows and changes shape within a model.\n",
        "- In essence, \"Tensor Space\" provides a conceptual framework for understanding how data is represented and manipulated within TensorFlow. It emphasizes that all operations are transformations within this multi-dimensional space of tensors, which is fundamental to building and running deep learning models.  "
      ],
      "metadata": {
        "id": "QI7F3Q1b2smV"
      }
    },
    {
      "cell_type": "markdown",
      "source": [
        "7.How can TensorBoard be integrated with TensorFlow 2.0?\n",
        "- TensorBoard is a powerful visualization tool that integrates seamlessly with TensorFlow 2.0 to help you understand, debug, and optimize your machine learning models.\n",
        " - Using the Keras TensorBoard Callback:\n",
        " - Using tf.summary and tf.summary.create_file_writer for Custom Training Loops:\n",
        " - Launching TensorBoard:"
      ],
      "metadata": {
        "id": "5Fv-kgGo45az"
      }
    },
    {
      "cell_type": "markdown",
      "source": [
        "8.What is the purpose of TensorFlow Playground?\n",
        "- The TensorFlow Playground is a web-based interactive tool developed by Google that helps you understand how neural networks work.\n",
        "- Its primary purpose is to provide a visual and intuitive way to experiment with different neural network architectures, hyperparameters, and datasets."
      ],
      "metadata": {
        "id": "XjJ-jwa46BPg"
      }
    },
    {
      "cell_type": "markdown",
      "source": [
        "9.What is Netron, and how is it useful for deep learning models?\n",
        "- Netron is an open-source viewer for neural network, deep learning, and machine learning models. It supports a wide range of formats.\n",
        "\n",
        "- Here's how it's useful for deep learning models : -\n",
        "  - Visualization : Netron allows you to visually inspect the architecture of your deep learning model. You can see the layers, their connections, and the flow of data through the network. This is incredibly helpful for understanding complex models.\n",
        "  - Debugging : By visualizing the model, you can identify potential issues or unexpected connections in your network architecture. This aids in debugging your models.\n",
        "  - Understanding : If you're working with a pre-trained model or a model developed by someone else, Netron can help you understand its structure and how it works without having to dive deep into the code.\n",
        "  Format Support : It supports many popular deep learning frameworks and formats, such as TensorFlow, Keras, PyTorch, ONNX, and more.\n",
        "  - No Dependencies : It runs as a standalone application or in a web browser and doesn't require any deep learning framework dependencies to view the model.\n",
        "- In essence, Netron provides a clear and interactive way to explore and understand the structure of your deep learning models, making it a valuable tool for developers and researchers."
      ],
      "metadata": {
        "id": "mH2uJwIl6YYU"
      }
    },
    {
      "cell_type": "markdown",
      "source": [
        "10.What is the difference between TensorFlow and PyTorch?\n",
        "- TensorFlow and PyTorch are two of the most popular open-source deep learning frameworks. While both are powerful and widely used, they have some key differences:\n",
        "\n",
        "*   **Computational Graph:**\n",
        "    *   **TensorFlow (1.x):** Used a static computational graph. You define the entire computation graph first and then execute it within a session. This allowed for optimizations and deployment to various platforms but could be less flexible and harder to debug.\n",
        "    *   **PyTorch & TensorFlow (2.x):** Use dynamic computational graphs (eager execution). The graph is built on the fly as operations are executed. This provides more flexibility, easier debugging, and a more Pythonic feel. TensorFlow 2.x adopted eager execution as the default, bridging this gap with PyTorch.\n",
        "\n",
        "*   **Ease of Use:**\n",
        "    *   **TensorFlow (1.x):** Could be more complex to use due to the static graph and session concept.\n",
        "    *   **PyTorch:** Generally considered more Pythonic and easier to learn for beginners due to its dynamic nature.\n",
        "    *   **TensorFlow (2.x):** Significantly improved ease of use with eager execution and better Keras integration.\n",
        "\n",
        "*   **API:**\n",
        "    *   **TensorFlow:** Has a comprehensive and low-level API, as well as higher-level APIs like Keras.\n",
        "    *   **PyTorch:** Provides a more Pythonic and often considered more intuitive API.\n",
        "\n",
        "*   **Community and Adoption:**\n",
        "    *   **TensorFlow:** Has a large and mature community, widely adopted in industry, especially for production deployment.\n",
        "    *   **PyTorch:** Has gained significant traction in the research community and is increasingly used in industry.\n",
        "\n",
        "*   **Visualization:**\n",
        "    *   **TensorFlow:** Integrates tightly with TensorBoard, a powerful visualization tool.\n",
        "    *   **PyTorch:** Has integration with TensorBoard (via `torch.utils.tensorboard`) and other visualization tools.\n",
        "\n",
        "*   **Deployment:**\n",
        "    *   **TensorFlow:** Has strong deployment options with TensorFlow Serving, TensorFlow Lite (for mobile and edge devices), and TensorFlow.js (for web browsers).\n",
        "    *   **PyTorch:** Offers PyTorch Mobile and TorchServe for deployment.\n",
        "\n",
        "In summary, the choice between TensorFlow and PyTorch often depends on the specific use case, team preference, and prior experience. TensorFlow 2.x has adopted many features that were popular in PyTorch, making them more similar than their earlier versions."
      ],
      "metadata": {
        "id": "wI4lgbB566QE"
      }
    },
    {
      "cell_type": "markdown",
      "source": [
        "11.How do you install PyTorch?\n",
        "- To install PyTorch, you can use pip. It's recommended to install it within a virtual environment.\n",
        "\n",
        "- You can find the specific installation command for your system and preferred package manager (like pip or conda) on the official PyTorch website: https://pytorch.org/get-started/locally/\n",
        "\n",
        "- Here's a general command using pip for a CPU-only installation:"
      ],
      "metadata": {
        "id": "4sWIJlDg7-RI"
      }
    },
    {
      "cell_type": "code",
      "metadata": {
        "colab": {
          "base_uri": "https://localhost:8080/",
          "height": 1000
        },
        "collapsed": true,
        "id": "219fb210",
        "outputId": "936b7206-cb9e-48a8-87d2-e9ff2c59390c"
      },
      "source": [
        "!pip install torch torchvision torchaudio"
      ],
      "execution_count": null,
      "outputs": [
        {
          "output_type": "stream",
          "name": "stdout",
          "text": [
            "Requirement already satisfied: torch in /usr/local/lib/python3.11/dist-packages (2.6.0+cu124)\n",
            "Requirement already satisfied: torchvision in /usr/local/lib/python3.11/dist-packages (0.21.0+cu124)\n",
            "Requirement already satisfied: torchaudio in /usr/local/lib/python3.11/dist-packages (2.6.0+cu124)\n",
            "Requirement already satisfied: filelock in /usr/local/lib/python3.11/dist-packages (from torch) (3.18.0)\n",
            "Requirement already satisfied: typing-extensions>=4.10.0 in /usr/local/lib/python3.11/dist-packages (from torch) (4.14.0)\n",
            "Requirement already satisfied: networkx in /usr/local/lib/python3.11/dist-packages (from torch) (3.5)\n",
            "Requirement already satisfied: jinja2 in /usr/local/lib/python3.11/dist-packages (from torch) (3.1.6)\n",
            "Requirement already satisfied: fsspec in /usr/local/lib/python3.11/dist-packages (from torch) (2025.3.2)\n",
            "Collecting nvidia-cuda-nvrtc-cu12==12.4.127 (from torch)\n",
            "  Downloading nvidia_cuda_nvrtc_cu12-12.4.127-py3-none-manylinux2014_x86_64.whl.metadata (1.5 kB)\n",
            "Collecting nvidia-cuda-runtime-cu12==12.4.127 (from torch)\n",
            "  Downloading nvidia_cuda_runtime_cu12-12.4.127-py3-none-manylinux2014_x86_64.whl.metadata (1.5 kB)\n",
            "Collecting nvidia-cuda-cupti-cu12==12.4.127 (from torch)\n",
            "  Downloading nvidia_cuda_cupti_cu12-12.4.127-py3-none-manylinux2014_x86_64.whl.metadata (1.6 kB)\n",
            "Collecting nvidia-cudnn-cu12==9.1.0.70 (from torch)\n",
            "  Downloading nvidia_cudnn_cu12-9.1.0.70-py3-none-manylinux2014_x86_64.whl.metadata (1.6 kB)\n",
            "Collecting nvidia-cublas-cu12==12.4.5.8 (from torch)\n",
            "  Downloading nvidia_cublas_cu12-12.4.5.8-py3-none-manylinux2014_x86_64.whl.metadata (1.5 kB)\n",
            "Collecting nvidia-cufft-cu12==11.2.1.3 (from torch)\n",
            "  Downloading nvidia_cufft_cu12-11.2.1.3-py3-none-manylinux2014_x86_64.whl.metadata (1.5 kB)\n",
            "Collecting nvidia-curand-cu12==10.3.5.147 (from torch)\n",
            "  Downloading nvidia_curand_cu12-10.3.5.147-py3-none-manylinux2014_x86_64.whl.metadata (1.5 kB)\n",
            "Collecting nvidia-cusolver-cu12==11.6.1.9 (from torch)\n",
            "  Downloading nvidia_cusolver_cu12-11.6.1.9-py3-none-manylinux2014_x86_64.whl.metadata (1.6 kB)\n",
            "Collecting nvidia-cusparse-cu12==12.3.1.170 (from torch)\n",
            "  Downloading nvidia_cusparse_cu12-12.3.1.170-py3-none-manylinux2014_x86_64.whl.metadata (1.6 kB)\n",
            "Requirement already satisfied: nvidia-cusparselt-cu12==0.6.2 in /usr/local/lib/python3.11/dist-packages (from torch) (0.6.2)\n",
            "Requirement already satisfied: nvidia-nccl-cu12==2.21.5 in /usr/local/lib/python3.11/dist-packages (from torch) (2.21.5)\n",
            "Requirement already satisfied: nvidia-nvtx-cu12==12.4.127 in /usr/local/lib/python3.11/dist-packages (from torch) (12.4.127)\n",
            "Collecting nvidia-nvjitlink-cu12==12.4.127 (from torch)\n",
            "  Downloading nvidia_nvjitlink_cu12-12.4.127-py3-none-manylinux2014_x86_64.whl.metadata (1.5 kB)\n",
            "Requirement already satisfied: triton==3.2.0 in /usr/local/lib/python3.11/dist-packages (from torch) (3.2.0)\n",
            "Requirement already satisfied: sympy==1.13.1 in /usr/local/lib/python3.11/dist-packages (from torch) (1.13.1)\n",
            "Requirement already satisfied: mpmath<1.4,>=1.1.0 in /usr/local/lib/python3.11/dist-packages (from sympy==1.13.1->torch) (1.3.0)\n",
            "Requirement already satisfied: numpy in /usr/local/lib/python3.11/dist-packages (from torchvision) (2.0.2)\n",
            "Requirement already satisfied: pillow!=8.3.*,>=5.3.0 in /usr/local/lib/python3.11/dist-packages (from torchvision) (11.2.1)\n",
            "Requirement already satisfied: MarkupSafe>=2.0 in /usr/local/lib/python3.11/dist-packages (from jinja2->torch) (3.0.2)\n",
            "Downloading nvidia_cublas_cu12-12.4.5.8-py3-none-manylinux2014_x86_64.whl (363.4 MB)\n",
            "\u001b[2K   \u001b[90m━━━━━━━━━━━━━━━━━━━━━━━━━━━━━━━━━━━━━━━━\u001b[0m \u001b[32m363.4/363.4 MB\u001b[0m \u001b[31m4.6 MB/s\u001b[0m eta \u001b[36m0:00:00\u001b[0m\n",
            "\u001b[?25hDownloading nvidia_cuda_cupti_cu12-12.4.127-py3-none-manylinux2014_x86_64.whl (13.8 MB)\n",
            "\u001b[2K   \u001b[90m━━━━━━━━━━━━━━━━━━━━━━━━━━━━━━━━━━━━━━━━\u001b[0m \u001b[32m13.8/13.8 MB\u001b[0m \u001b[31m66.6 MB/s\u001b[0m eta \u001b[36m0:00:00\u001b[0m\n",
            "\u001b[?25hDownloading nvidia_cuda_nvrtc_cu12-12.4.127-py3-none-manylinux2014_x86_64.whl (24.6 MB)\n",
            "\u001b[2K   \u001b[90m━━━━━━━━━━━━━━━━━━━━━━━━━━━━━━━━━━━━━━━━\u001b[0m \u001b[32m24.6/24.6 MB\u001b[0m \u001b[31m32.9 MB/s\u001b[0m eta \u001b[36m0:00:00\u001b[0m\n",
            "\u001b[?25hDownloading nvidia_cuda_runtime_cu12-12.4.127-py3-none-manylinux2014_x86_64.whl (883 kB)\n",
            "\u001b[2K   \u001b[90m━━━━━━━━━━━━━━━━━━━━━━━━━━━━━━━━━━━━━━━━\u001b[0m \u001b[32m883.7/883.7 kB\u001b[0m \u001b[31m18.5 MB/s\u001b[0m eta \u001b[36m0:00:00\u001b[0m\n",
            "\u001b[?25hDownloading nvidia_cudnn_cu12-9.1.0.70-py3-none-manylinux2014_x86_64.whl (664.8 MB)\n",
            "\u001b[2K   \u001b[90m━━━━━━━━━━━━━━━━━━━━━━━━━━━━━━━━━━━━━━━━\u001b[0m \u001b[32m664.8/664.8 MB\u001b[0m \u001b[31m1.2 MB/s\u001b[0m eta \u001b[36m0:00:00\u001b[0m\n",
            "\u001b[?25hDownloading nvidia_cufft_cu12-11.2.1.3-py3-none-manylinux2014_x86_64.whl (211.5 MB)\n",
            "\u001b[2K   \u001b[90m━━━━━━━━━━━━━━━━━━━━━━━━━━━━━━━━━━━━━━━━\u001b[0m \u001b[32m211.5/211.5 MB\u001b[0m \u001b[31m5.3 MB/s\u001b[0m eta \u001b[36m0:00:00\u001b[0m\n",
            "\u001b[?25hDownloading nvidia_curand_cu12-10.3.5.147-py3-none-manylinux2014_x86_64.whl (56.3 MB)\n",
            "\u001b[2K   \u001b[90m━━━━━━━━━━━━━━━━━━━━━━━━━━━━━━━━━━━━━━━━\u001b[0m \u001b[32m56.3/56.3 MB\u001b[0m \u001b[31m9.6 MB/s\u001b[0m eta \u001b[36m0:00:00\u001b[0m\n",
            "\u001b[?25hDownloading nvidia_cusolver_cu12-11.6.1.9-py3-none-manylinux2014_x86_64.whl (127.9 MB)\n",
            "\u001b[2K   \u001b[90m━━━━━━━━━━━━━━━━━━━━━━━━━━━━━━━━━━━━━━━━\u001b[0m \u001b[32m127.9/127.9 MB\u001b[0m \u001b[31m7.1 MB/s\u001b[0m eta \u001b[36m0:00:00\u001b[0m\n",
            "\u001b[?25hDownloading nvidia_cusparse_cu12-12.3.1.170-py3-none-manylinux2014_x86_64.whl (207.5 MB)\n",
            "\u001b[2K   \u001b[90m━━━━━━━━━━━━━━━━━━━━━━━━━━━━━━━━━━━━━━━━\u001b[0m \u001b[32m207.5/207.5 MB\u001b[0m \u001b[31m7.2 MB/s\u001b[0m eta \u001b[36m0:00:00\u001b[0m\n",
            "\u001b[?25hDownloading nvidia_nvjitlink_cu12-12.4.127-py3-none-manylinux2014_x86_64.whl (21.1 MB)\n",
            "\u001b[2K   \u001b[90m━━━━━━━━━━━━━━━━━━━━━━━━━━━━━━━━━━━━━━━━\u001b[0m \u001b[32m21.1/21.1 MB\u001b[0m \u001b[31m91.7 MB/s\u001b[0m eta \u001b[36m0:00:00\u001b[0m\n",
            "\u001b[?25hInstalling collected packages: nvidia-nvjitlink-cu12, nvidia-curand-cu12, nvidia-cufft-cu12, nvidia-cuda-runtime-cu12, nvidia-cuda-nvrtc-cu12, nvidia-cuda-cupti-cu12, nvidia-cublas-cu12, nvidia-cusparse-cu12, nvidia-cudnn-cu12, nvidia-cusolver-cu12\n",
            "  Attempting uninstall: nvidia-nvjitlink-cu12\n",
            "    Found existing installation: nvidia-nvjitlink-cu12 12.5.82\n",
            "    Uninstalling nvidia-nvjitlink-cu12-12.5.82:\n",
            "      Successfully uninstalled nvidia-nvjitlink-cu12-12.5.82\n",
            "  Attempting uninstall: nvidia-curand-cu12\n",
            "    Found existing installation: nvidia-curand-cu12 10.3.6.82\n",
            "    Uninstalling nvidia-curand-cu12-10.3.6.82:\n",
            "      Successfully uninstalled nvidia-curand-cu12-10.3.6.82\n",
            "  Attempting uninstall: nvidia-cufft-cu12\n",
            "    Found existing installation: nvidia-cufft-cu12 11.2.3.61\n",
            "    Uninstalling nvidia-cufft-cu12-11.2.3.61:\n",
            "      Successfully uninstalled nvidia-cufft-cu12-11.2.3.61\n",
            "  Attempting uninstall: nvidia-cuda-runtime-cu12\n",
            "    Found existing installation: nvidia-cuda-runtime-cu12 12.5.82\n",
            "    Uninstalling nvidia-cuda-runtime-cu12-12.5.82:\n",
            "      Successfully uninstalled nvidia-cuda-runtime-cu12-12.5.82\n",
            "  Attempting uninstall: nvidia-cuda-nvrtc-cu12\n",
            "    Found existing installation: nvidia-cuda-nvrtc-cu12 12.5.82\n",
            "    Uninstalling nvidia-cuda-nvrtc-cu12-12.5.82:\n",
            "      Successfully uninstalled nvidia-cuda-nvrtc-cu12-12.5.82\n",
            "  Attempting uninstall: nvidia-cuda-cupti-cu12\n",
            "    Found existing installation: nvidia-cuda-cupti-cu12 12.5.82\n",
            "    Uninstalling nvidia-cuda-cupti-cu12-12.5.82:\n",
            "      Successfully uninstalled nvidia-cuda-cupti-cu12-12.5.82\n",
            "  Attempting uninstall: nvidia-cublas-cu12\n",
            "    Found existing installation: nvidia-cublas-cu12 12.5.3.2\n",
            "    Uninstalling nvidia-cublas-cu12-12.5.3.2:\n",
            "      Successfully uninstalled nvidia-cublas-cu12-12.5.3.2\n",
            "  Attempting uninstall: nvidia-cusparse-cu12\n",
            "    Found existing installation: nvidia-cusparse-cu12 12.5.1.3\n",
            "    Uninstalling nvidia-cusparse-cu12-12.5.1.3:\n",
            "      Successfully uninstalled nvidia-cusparse-cu12-12.5.1.3\n",
            "  Attempting uninstall: nvidia-cudnn-cu12\n",
            "    Found existing installation: nvidia-cudnn-cu12 9.3.0.75\n",
            "    Uninstalling nvidia-cudnn-cu12-9.3.0.75:\n",
            "      Successfully uninstalled nvidia-cudnn-cu12-9.3.0.75\n",
            "  Attempting uninstall: nvidia-cusolver-cu12\n",
            "    Found existing installation: nvidia-cusolver-cu12 11.6.3.83\n",
            "    Uninstalling nvidia-cusolver-cu12-11.6.3.83:\n",
            "      Successfully uninstalled nvidia-cusolver-cu12-11.6.3.83\n",
            "Successfully installed nvidia-cublas-cu12-12.4.5.8 nvidia-cuda-cupti-cu12-12.4.127 nvidia-cuda-nvrtc-cu12-12.4.127 nvidia-cuda-runtime-cu12-12.4.127 nvidia-cudnn-cu12-9.1.0.70 nvidia-cufft-cu12-11.2.1.3 nvidia-curand-cu12-10.3.5.147 nvidia-cusolver-cu12-11.6.1.9 nvidia-cusparse-cu12-12.3.1.170 nvidia-nvjitlink-cu12-12.4.127\n"
          ]
        },
        {
          "output_type": "display_data",
          "data": {
            "application/vnd.colab-display-data+json": {
              "pip_warning": {
                "packages": [
                  "nvidia"
                ]
              },
              "id": "074eba88ee7c4e30b8b65b69155f2bfe"
            }
          },
          "metadata": {}
        }
      ]
    },
    {
      "cell_type": "markdown",
      "source": [
        "12.What is the basic structure of a PyTorch neural network?\n",
        "- The basic structure of a PyTorch neural network is built around the concept of `Modules`. A `Module` is the base class for all neural network modules in PyTorch. It can contain other `Modules` (allowing for nested structures) and parameters (tensors that require gradients).\n",
        "\n",
        "- Here's a breakdown of the basic structure:\n",
        "\n",
        "  - **`torch.nn.Module`:** This is the fundamental building block. You typically create your neural network by subclassing `torch.nn.Module`.\n",
        "  - **Layers:** Inside a `Module`, you define the layers of your network. PyTorch provides a wide range of pre-defined layers in the `torch.nn` module, such as:\n",
        "    *   `nn.Linear` for fully connected layers\n",
        "    *   `nn.Conv2d` for convolutional layers\n",
        "    *   `nn.ReLU` for activation functions\n",
        "    *   `nn.MaxPool2d` for pooling layers\n",
        "  - **`__init__` method:** In the `__init__` method of your custom `Module` class, you define the layers and other sub-modules that your network will use.\n",
        "  - **`forward` method:** This method defines the forward pass of your network. It takes the input tensor(s) and passes them through the defined layers and operations to produce the output tensor(s). This is where the computation happens.\n",
        "  - **Parameters:** Learnable parameters (like weights and biases) are automatically tracked by `Modules`. When you define layers within a `Module`, their parameters are also included in the parent module's parameters."
      ],
      "metadata": {
        "id": "6NDWIAnK9mvz"
      }
    },
    {
      "cell_type": "markdown",
      "source": [
        "13.What is the significance of tensors in PyTorch?\n",
        "- In PyTorch, tensors are the fundamental data structure used for all computations. They are similar to NumPy arrays but with the added capability of being used on GPUs for accelerated computing.\n",
        "\n",
        "- Here's the significance of tensors in PyTorch : -\n",
        "  - Data Representation: All data, including input data, model parameters (weights and biases), and outputs, are represented as tensors.\n",
        "  - Mathematical Operations: PyTorch provides a rich library of operations that work directly on tensors, enabling efficient mathematical computations required for deep learning.\n",
        "  - GPU Acceleration: Tensors can be easily moved to and from a GPU, allowing you to leverage the parallel processing power of GPUs for significantly faster training and inference of deep learning models.\n",
        "  - Automatic Differentiation: PyTorch's autograd system automatically computes gradients for tensor operations. This is crucial for training neural networks using backpropagation, as it eliminates the need for manual gradient calculation.\n",
        "  - Flexibility: Tensors support various data types and shapes, making them versatile for representing different kinds of data and model architectures.\n",
        "- In essence, tensors are the building blocks of PyTorch, and understanding how to create, manipulate, and perform operations on them is essential for working with the framework."
      ],
      "metadata": {
        "id": "EqX2nUsW-lvF"
      }
    },
    {
      "cell_type": "markdown",
      "source": [
        "14.What is the difference between torch.Tensor and torch.cuda.Tensor in PyTorch?\n",
        "- In PyTorch, `torch.Tensor` and `torch.cuda.Tensor` are both tensor objects, but they reside in different memory spaces and are used for computations on different devices:\n",
        "\n",
        "  - **`torch.Tensor` :** This is the default tensor type in PyTorch. A `torch.Tensor` resides in the host's CPU memory. Operations on a `torch.Tensor` are performed using the CPU. This is suitable for smaller computations or when a GPU is not available.\n",
        "\n",
        "  - **`torch.cuda.Tensor` :** This is a tensor that resides in the GPU's device memory. Operations on a `torch.cuda.Tensor` are performed using the GPU, which can significantly accelerate computations, especially for large-scale deep learning models due to the parallel processing capabilities of GPUs.\n",
        "\n",
        "- The key difference lies in where the tensor's data is stored and where the computations involving that tensor will take place. To perform operations on the GPU, you need to move your `torch.Tensor` to the GPU, which converts it into a `torch.cuda.Tensor`. You can do this using the `.to()` method or the `.cuda()` method."
      ],
      "metadata": {
        "id": "IIPIgkT1_SHt"
      }
    },
    {
      "cell_type": "markdown",
      "source": [
        "15.What is the purpose of the torch.optim module in PyTorch?\n",
        "- The `torch.optim` module in PyTorch is a crucial component for training neural networks. Its primary purpose is to provide a variety of optimization algorithms that are used to update the weights and biases of your model during the training process.\n",
        "\n",
        "- Here's the significance of the `torch.optim` module:\n",
        "\n",
        " - **Optimization Algorithms:** It includes implementations of various popular optimization algorithms like Stochastic Gradient Descent (SGD), Adam, RMSprop, Adagrad, and more. These algorithms determine how the model's parameters are adjusted based on the calculated gradients of the loss function.\n",
        " - **Parameter Updates:** An optimizer in `torch.optim` takes the model's parameters and the computed gradients as input and performs the necessary updates to minimize the loss function.\n",
        " - **Learning Rate Scheduling:** The module also often works in conjunction with learning rate schedulers (found in `torch.optim.lr_scheduler`) to adjust the learning rate during training, which can help improve convergence and performance.\n",
        "\n",
        "- In essence, the `torch.optim` module provides the tools to effectively train your PyTorch models by implementing the algorithms that drive the learning process. You choose an optimizer based on the characteristics of your model and data, and then configure it with parameters like the learning rate."
      ],
      "metadata": {
        "id": "NUSiBt19_9Ye"
      }
    },
    {
      "cell_type": "markdown",
      "source": [
        "16.What are some common activation functions used in neural networks?\n",
        "- There are several common activation functions used in neural networks. They introduce non-linearity into the network, allowing it to learn complex patterns.\n",
        "- Here are some of the most frequently used ones :\n",
        "\n",
        "  - **ReLU (Rectified Linear Unit):** This is one of the most popular activation functions. It returns 0 for any negative input and the input value itself for any positive input. It's computationally efficient and helps mitigate the vanishing gradient problem.\n",
        "    *   Function: `f(x) = max(0, x)`\n",
        "\n",
        "  - **Sigmoid:** This function squashes the input values between 0 and 1. It was historically used in output layers for binary classification problems but is less common in hidden layers due to the vanishing gradient problem.\n",
        "    *   Function: `f(x) = 1 / (1 + e^(-x))`\n",
        "\n",
        "  - **Tanh (Hyperbolic Tangent):** Similar to the sigmoid function, but it squashes the input values between -1 and 1. It's also prone to the vanishing gradient problem but is zero-centered, which can be beneficial in some cases.\n",
        "    *   Function: `f(x) = (e^x - e^(-x)) / (e^x + e^(-x))`\n",
        "\n",
        "  - **Softmax:** This function is typically used in the output layer of a neural network for multi-class classification problems. It converts a vector of numbers into a probability distribution, where the sum of the probabilities is 1.\n",
        "    *   Function: `Softmax(x_i) = e^(x_i) / sum(e^j for j in all classes)`\n",
        "\n",
        "  - **Leaky ReLU:** An improvement over ReLU that addresses the \"dying ReLU\" problem. It allows a small, non-zero gradient for negative inputs.\n",
        "    *   Function: `f(x) = max(0.01x, x)` (the slope for negative values can be a small constant)\n",
        "\n",
        "  - **ELU (Exponential Linear Unit):** Another variation of ReLU that aims to make the mean activation closer to zero, which can help with training.\n",
        "    *   Function: `f(x) = x if x > 0, and alpha * (e^x - 1) if x <= 0` (where alpha is a small constant)\n",
        "\n",
        "- The choice of activation function depends on the specific problem, the architecture of the neural network, and the desired output. ReLU and its variants are generally good starting points for hidden layers."
      ],
      "metadata": {
        "id": "hwAPmB5cBwsa"
      }
    },
    {
      "cell_type": "markdown",
      "source": [
        "17.What is the difference between torch.nn.Module and torch.nn.Sequential in PyTorch?\n",
        "- In PyTorch, both `torch.nn.Module` and `torch.nn.Sequential` are used to build neural networks, but they serve slightly different purposes : -\n",
        "\n",
        "  - **`torch.nn.Module`:** This is the base class for all neural network modules. When you create a custom neural network in PyTorch, you typically subclass `torch.nn.Module`. It provides the core functionality for tracking parameters, handling forward and backward passes, and managing sub-modules. You define the layers and the `forward` method (which specifies how the input data flows through the layers) within your custom `Module` class. This gives you fine-grained control over the network's architecture and computation.\n",
        "\n",
        "  - **`torch.nn.Sequential`:** This is a container module that allows you to stack other modules in a sequential order. It's a convenient way to build simple feedforward networks where the output of one layer is the input to the next. When you pass data through a `Sequential` module, it is passed through each contained module in the order they were added. It's a simpler way to define models compared to subclassing `nn.Module` for straightforward architectures.\n",
        "\n",
        "- In essence : -\n",
        "\n",
        "  - Use `torch.nn.Module` when you need more complex or custom network architectures that don't fit a simple sequential flow (e.g., networks with multiple inputs/outputs, shared layers, or skip connections).\n",
        "  - Use `torch.nn.Sequential` for building simple, linear stacks of layers. It's a shorthand for creating a `Module` with a simple forward pass."
      ],
      "metadata": {
        "id": "jLjLsUD1ClYR"
      }
    },
    {
      "cell_type": "markdown",
      "source": [
        "18.How can you monitor training progress in TensorFlow 2.0?\n",
        "- TensorBoard is a powerful visualization tool that integrates seamlessly with TensorFlow 2.0 to help you understand, debug, and optimize your machine learning models.It allows you to visualize things like : -\n",
        "\n",
        " - Model graphs\n",
        " - Training metrics (loss, accuracy, etc.)\n",
        " - Histograms of weights and biases\n",
        " - Images and other data\n",
        " - Profile model performance\n",
        "\n",
        "- Monitoring training progress with TensorBoard is essential for gaining insights into how your model is learning and identifying potential issues."
      ],
      "metadata": {
        "id": "Y-cHLZJeDPyM"
      }
    },
    {
      "cell_type": "markdown",
      "source": [
        "19.How does the Keras API fit into TensorFlow 2.0?\n",
        "- In TensorFlow 2.0, Keras is the official high-level API for building and training models. It provides a user-friendly and intuitive interface that simplifies the process of creating neural networks.\n",
        "\n",
        "- Here's how Keras fits into TensorFlow 2.0:\n",
        "\n",
        " - **Official High-Level API:** TensorFlow 2.0 adopted Keras as its primary high-level API, recommending it for most use cases. This means that when you're building models in TensorFlow 2.0, you'll typically be using the `tf.keras` module.\n",
        " - **Simplified Model Building:** Keras provides abstract layers and models (`Sequential`, `Model` subclassing) that make it much easier to define and configure neural network architectures compared to working with lower-level TensorFlow operations directly.\n",
        " - **Eager Execution Compatibility:** Keras is designed to work seamlessly with TensorFlow 2.0's eager execution, allowing for more interactive development and easier debugging.\n",
        " - **Streamlined Training and Evaluation:** Keras provides built-in methods like `compile`, `fit`, `evaluate`, and `predict` that simplify the training and evaluation workflows.\n",
        " - **Access to Low-Level TensorFlow:** While Keras provides a high-level abstraction, you still have access to the full power of low-level TensorFlow operations when needed, allowing for flexibility and customization.\n",
        "\n",
        "- In essence, Keras serves as a user-friendly front-end to TensorFlow 2.0, making it more accessible and efficient for building and training deep learning models while still allowing access to TensorFlow's powerful features when necessary."
      ],
      "metadata": {
        "id": "wLb7XBk7D6ch"
      }
    },
    {
      "cell_type": "markdown",
      "source": [
        "20.What is an example of a deep learning project that can be implemented using TensorFlow 2.0?\n",
        "- A classic example of a deep learning project that can be implemented using TensorFlow 2.0 is **Image Classification**.\n",
        "\n",
        "- **Project Idea:** Build a convolutional neural network (CNN) to classify images from a well-known dataset like CIFAR-10 or MNIST.\n",
        "\n",
        "- **Why TensorFlow 2.0 is suitable:**\n",
        "\n",
        "  - **Keras API:** TensorFlow 2.0's integrated Keras API makes building the CNN architecture straightforward using layers like `Conv2D`, `MaxPooling2D`, and `Dense`.\n",
        "  - **Eager Execution:** Eager execution simplifies debugging the model during development.\n",
        "  - **`tf.data` API:** The `tf.data` API can be used for efficient loading and preprocessing of the image dataset.\n",
        "  - **Training and Evaluation:** The `Model.fit()` and `Model.evaluate()` methods provide a simple way to train and assess the performance of the model.\n",
        "  - **TensorBoard Integration:** TensorBoard can be easily used to monitor training progress, visualize the model graph, and analyze metrics.\n",
        "\n",
        "- **Steps involved:**\n",
        "\n",
        "  - **Load and preprocess data:** Load the chosen image dataset and perform necessary preprocessing steps like normalization and resizing.\n",
        "  - **Define the CNN model:** Use `tf.keras.Sequential` or subclass `tf.keras.Model` to define the layers of your CNN.\n",
        "  - **Compile the model:** Configure the model for training by specifying an optimizer, loss function, and metrics.\n",
        "  - **Train the model:** Train the model using the preprocessed training data.\n",
        "  - **Evaluate the model:** Evaluate the trained model on the test data to assess its performance.\n",
        "  - **Make predictions:** Use the trained model to make predictions on new images.\n",
        "\n",
        "- This project covers fundamental concepts in deep learning and demonstrates the ease of use of TensorFlow 2.0 for building and training neural networks."
      ],
      "metadata": {
        "id": "PGmmEcFBEfRq"
      }
    },
    {
      "cell_type": "markdown",
      "source": [
        "21.What is the main advantage of using pre-trained models in TensorFlow and PyTorch?\n",
        "- The main advantage of using pre-trained models in TensorFlow and PyTorch is **transfer learning**.\n",
        "\n",
        "- Here's why transfer learning with pre-trained models is so beneficial:\n",
        "\n",
        " - **Reduced Training Time and Computational Resources:** Training a deep neural network from scratch on a large dataset can take a significant amount of time and computational power. Pre-trained models have already learned powerful features from massive datasets (like ImageNet), so you can leverage this learned knowledge. You only need to train the last few layers of the network or fine-tune the existing layers on your specific, smaller dataset. This drastically reduces the training time and computational resources required.\n",
        " - **Improved Performance on Smaller Datasets:** If you have a relatively small dataset for your task, training a complex model from scratch can lead to overfitting. Pre-trained models have already learned general features that are useful for a wide range of tasks. By using a pre-trained model and fine-tuning it on your small dataset, you can achieve better performance than training a model from scratch.\n",
        " - **Leveraging Learned Features:** Pre-trained models, especially those trained on large image datasets, have learned to extract hierarchical features from data (e.g., edges, textures, shapes, and even object parts). These features are often transferable to other tasks, even if the new task is different from the one the model was originally trained on.\n",
        " - **Faster Development and Prototyping:** Using a pre-trained model allows you to quickly set up a baseline for your task and iterate on it. You don't need to spend time designing and training a complex architecture from scratch.\n",
        "\n",
        "- In essence, pre-trained models act as a strong starting point, allowing you to build high-performing models with less data and computational effort by transferring knowledge gained from a different but related task."
      ],
      "metadata": {
        "id": "C-WJWMNKRMcd"
      }
    },
    {
      "cell_type": "markdown",
      "source": [
        "#Practical Questions : -"
      ],
      "metadata": {
        "id": "_HV5meceUY_r"
      }
    },
    {
      "cell_type": "markdown",
      "source": [
        "1.How do you install and verify that TensorFlow 2.0 was installed successfully?"
      ],
      "metadata": {
        "id": "_qhML0RtUnVI"
      }
    },
    {
      "cell_type": "code",
      "source": [
        "import tensorflow as tf\n",
        "tf.__version__"
      ],
      "metadata": {
        "colab": {
          "base_uri": "https://localhost:8080/",
          "height": 35
        },
        "id": "eP2ofh9rVEfX",
        "outputId": "7fe80093-9e9f-44f7-bb25-4e17f6ac7efe"
      },
      "execution_count": null,
      "outputs": [
        {
          "output_type": "execute_result",
          "data": {
            "text/plain": [
              "'2.18.0'"
            ],
            "application/vnd.google.colaboratory.intrinsic+json": {
              "type": "string"
            }
          },
          "metadata": {},
          "execution_count": 2
        }
      ]
    },
    {
      "cell_type": "markdown",
      "source": [
        "2.How can you define a simple function in TensorFlow 2.0 to perform addition?"
      ],
      "metadata": {
        "id": "zg2jaJCYVG83"
      }
    },
    {
      "cell_type": "code",
      "source": [
        "@tf.function\n",
        "def add_tensors(x, y):\n",
        "  return x + y\n",
        "\n",
        "# Example usage:\n",
        "tensor_a = tf.constant([1.0, 2.0])\n",
        "tensor_b = tf.constant([3.0, 4.0])\n",
        "result = add_tensors(tensor_a, tensor_b)\n",
        "result"
      ],
      "metadata": {
        "colab": {
          "base_uri": "https://localhost:8080/"
        },
        "id": "rCUADG9fVYgL",
        "outputId": "4a859fce-03e1-41df-b80d-9ac07749447a"
      },
      "execution_count": null,
      "outputs": [
        {
          "output_type": "execute_result",
          "data": {
            "text/plain": [
              "<tf.Tensor: shape=(2,), dtype=float32, numpy=array([4., 6.], dtype=float32)>"
            ]
          },
          "metadata": {},
          "execution_count": 4
        }
      ]
    },
    {
      "cell_type": "markdown",
      "source": [
        "3.How can you create a simple neural network in TensorFlow 2.0 with one hidden layer?"
      ],
      "metadata": {
        "id": "f-7w7GUeVbTH"
      }
    },
    {
      "cell_type": "code",
      "source": [
        "# Import necessary libraries\n",
        "import tensorflow as tf\n",
        "from tensorflow import keras\n",
        "from tensorflow.keras import layers\n",
        "from tensorflow.keras.datasets import mnist\n",
        "from sklearn.model_selection import train_test_split\n",
        "\n",
        "\n",
        "# Define the model using the Sequential API\n",
        "model = keras.Sequential([\n",
        "    # Input layer - specifies the input shape\n",
        "    # The input shape should match the shape of your data\n",
        "    # For example, if your data has 784 features (like MNIST images flattened)\n",
        "    layers.InputLayer(input_shape=(784,)),\n",
        "\n",
        "    # Hidden layer with, say, 128 neurons and ReLU activation\n",
        "    layers.Dense(128, activation='relu'),\n",
        "\n",
        "    # Output layer with, say, 10 neurons (for a classification task with 10 classes)\n",
        "    # Use softmax activation for multi-class classification to get probability distribution\n",
        "    layers.Dense(10, activation='softmax')\n",
        "])\n",
        "\n",
        "# Print the model summary to see the layers and parameters\n",
        "model.summary()"
      ],
      "metadata": {
        "colab": {
          "base_uri": "https://localhost:8080/",
          "height": 239
        },
        "id": "dzJe-GkIV0Wl",
        "outputId": "cec3d1f5-6617-44ca-95b3-51fda0e72bd3"
      },
      "execution_count": null,
      "outputs": [
        {
          "output_type": "stream",
          "name": "stderr",
          "text": [
            "/usr/local/lib/python3.11/dist-packages/keras/src/layers/core/input_layer.py:27: UserWarning: Argument `input_shape` is deprecated. Use `shape` instead.\n",
            "  warnings.warn(\n"
          ]
        },
        {
          "output_type": "display_data",
          "data": {
            "text/plain": [
              "\u001b[1mModel: \"sequential_8\"\u001b[0m\n"
            ],
            "text/html": [
              "<pre style=\"white-space:pre;overflow-x:auto;line-height:normal;font-family:Menlo,'DejaVu Sans Mono',consolas,'Courier New',monospace\"><span style=\"font-weight: bold\">Model: \"sequential_8\"</span>\n",
              "</pre>\n"
            ]
          },
          "metadata": {}
        },
        {
          "output_type": "display_data",
          "data": {
            "text/plain": [
              "┏━━━━━━━━━━━━━━━━━━━━━━━━━━━━━━━━━┳━━━━━━━━━━━━━━━━━━━━━━━━┳━━━━━━━━━━━━━━━┓\n",
              "┃\u001b[1m \u001b[0m\u001b[1mLayer (type)                   \u001b[0m\u001b[1m \u001b[0m┃\u001b[1m \u001b[0m\u001b[1mOutput Shape          \u001b[0m\u001b[1m \u001b[0m┃\u001b[1m \u001b[0m\u001b[1m      Param #\u001b[0m\u001b[1m \u001b[0m┃\n",
              "┡━━━━━━━━━━━━━━━━━━━━━━━━━━━━━━━━━╇━━━━━━━━━━━━━━━━━━━━━━━━╇━━━━━━━━━━━━━━━┩\n",
              "│ dense_16 (\u001b[38;5;33mDense\u001b[0m)                │ (\u001b[38;5;45mNone\u001b[0m, \u001b[38;5;34m128\u001b[0m)            │       \u001b[38;5;34m100,480\u001b[0m │\n",
              "├─────────────────────────────────┼────────────────────────┼───────────────┤\n",
              "│ dense_17 (\u001b[38;5;33mDense\u001b[0m)                │ (\u001b[38;5;45mNone\u001b[0m, \u001b[38;5;34m10\u001b[0m)             │         \u001b[38;5;34m1,290\u001b[0m │\n",
              "└─────────────────────────────────┴────────────────────────┴───────────────┘\n"
            ],
            "text/html": [
              "<pre style=\"white-space:pre;overflow-x:auto;line-height:normal;font-family:Menlo,'DejaVu Sans Mono',consolas,'Courier New',monospace\">┏━━━━━━━━━━━━━━━━━━━━━━━━━━━━━━━━━┳━━━━━━━━━━━━━━━━━━━━━━━━┳━━━━━━━━━━━━━━━┓\n",
              "┃<span style=\"font-weight: bold\"> Layer (type)                    </span>┃<span style=\"font-weight: bold\"> Output Shape           </span>┃<span style=\"font-weight: bold\">       Param # </span>┃\n",
              "┡━━━━━━━━━━━━━━━━━━━━━━━━━━━━━━━━━╇━━━━━━━━━━━━━━━━━━━━━━━━╇━━━━━━━━━━━━━━━┩\n",
              "│ dense_16 (<span style=\"color: #0087ff; text-decoration-color: #0087ff\">Dense</span>)                │ (<span style=\"color: #00d7ff; text-decoration-color: #00d7ff\">None</span>, <span style=\"color: #00af00; text-decoration-color: #00af00\">128</span>)            │       <span style=\"color: #00af00; text-decoration-color: #00af00\">100,480</span> │\n",
              "├─────────────────────────────────┼────────────────────────┼───────────────┤\n",
              "│ dense_17 (<span style=\"color: #0087ff; text-decoration-color: #0087ff\">Dense</span>)                │ (<span style=\"color: #00d7ff; text-decoration-color: #00d7ff\">None</span>, <span style=\"color: #00af00; text-decoration-color: #00af00\">10</span>)             │         <span style=\"color: #00af00; text-decoration-color: #00af00\">1,290</span> │\n",
              "└─────────────────────────────────┴────────────────────────┴───────────────┘\n",
              "</pre>\n"
            ]
          },
          "metadata": {}
        },
        {
          "output_type": "display_data",
          "data": {
            "text/plain": [
              "\u001b[1m Total params: \u001b[0m\u001b[38;5;34m101,770\u001b[0m (397.54 KB)\n"
            ],
            "text/html": [
              "<pre style=\"white-space:pre;overflow-x:auto;line-height:normal;font-family:Menlo,'DejaVu Sans Mono',consolas,'Courier New',monospace\"><span style=\"font-weight: bold\"> Total params: </span><span style=\"color: #00af00; text-decoration-color: #00af00\">101,770</span> (397.54 KB)\n",
              "</pre>\n"
            ]
          },
          "metadata": {}
        },
        {
          "output_type": "display_data",
          "data": {
            "text/plain": [
              "\u001b[1m Trainable params: \u001b[0m\u001b[38;5;34m101,770\u001b[0m (397.54 KB)\n"
            ],
            "text/html": [
              "<pre style=\"white-space:pre;overflow-x:auto;line-height:normal;font-family:Menlo,'DejaVu Sans Mono',consolas,'Courier New',monospace\"><span style=\"font-weight: bold\"> Trainable params: </span><span style=\"color: #00af00; text-decoration-color: #00af00\">101,770</span> (397.54 KB)\n",
              "</pre>\n"
            ]
          },
          "metadata": {}
        },
        {
          "output_type": "display_data",
          "data": {
            "text/plain": [
              "\u001b[1m Non-trainable params: \u001b[0m\u001b[38;5;34m0\u001b[0m (0.00 B)\n"
            ],
            "text/html": [
              "<pre style=\"white-space:pre;overflow-x:auto;line-height:normal;font-family:Menlo,'DejaVu Sans Mono',consolas,'Courier New',monospace\"><span style=\"font-weight: bold\"> Non-trainable params: </span><span style=\"color: #00af00; text-decoration-color: #00af00\">0</span> (0.00 B)\n",
              "</pre>\n"
            ]
          },
          "metadata": {}
        }
      ]
    },
    {
      "cell_type": "markdown",
      "source": [
        "4.How can you visualize the training progress using TensorFlow and Matplotlib?"
      ],
      "metadata": {
        "id": "6frLNhM-YU_y"
      }
    },
    {
      "cell_type": "code",
      "source": [
        "import matplotlib.pyplot as plt\n",
        "\n",
        "# Let's create some dummy history data for demonstration purposes\n",
        "# In a real scenario, you would use the history object from model.fit()\n",
        "class DummyHistory:\n",
        "    def __init__(self):\n",
        "        self.history = {\n",
        "            'loss': [0.5, 0.4, 0.3, 0.2, 0.1],\n",
        "            'accuracy': [0.8, 0.85, 0.9, 0.92, 0.95],\n",
        "            'val_loss': [0.6, 0.5, 0.4, 0.3, 0.25],\n",
        "            'val_accuracy': [0.75, 0.8, 0.88, 0.9, 0.91]\n",
        "        }\n",
        "\n",
        "history = DummyHistory()\n",
        "\n",
        "# Plot training & validation accuracy values\n",
        "plt.figure(figsize=(12, 4))\n",
        "\n",
        "plt.subplot(1, 2, 1)\n",
        "plt.plot(history.history['accuracy'])\n",
        "plt.plot(history.history['val_accuracy'])\n",
        "plt.title('Model Accuracy')\n",
        "plt.ylabel('Accuracy')\n",
        "plt.xlabel('Epoch')\n",
        "plt.legend(['Train', 'Validation'], loc='upper left')\n",
        "\n",
        "# Plot training & validation loss values\n",
        "plt.subplot(1, 2, 2)\n",
        "plt.plot(history.history['loss'])\n",
        "plt.plot(history.history['val_loss'])\n",
        "plt.title('Model Loss')\n",
        "plt.ylabel('Loss')\n",
        "plt.xlabel('Epoch')\n",
        "plt.legend(['Train', 'Validation'], loc='upper left')\n",
        "\n",
        "plt.tight_layout()\n",
        "plt.show()"
      ],
      "metadata": {
        "colab": {
          "base_uri": "https://localhost:8080/",
          "height": 407
        },
        "id": "tX1Z1yd1ZLKG",
        "outputId": "08a075b5-a2a8-4096-868e-14c15286cf99"
      },
      "execution_count": null,
      "outputs": [
        {
          "output_type": "display_data",
          "data": {
            "text/plain": [
              "<Figure size 1200x400 with 2 Axes>"
            ],
            "image/png": "[encoded data removed]"
          },
          "metadata": {}
        }
      ]
    },
    {
      "cell_type": "markdown",
      "source": [
        "5.How do you install PyTorch and verify the PyTorch installation?"
      ],
      "metadata": {
        "id": "0z-9sjorZRhP"
      }
    },
    {
      "cell_type": "code",
      "source": [
        "# Install PyTorch\n",
        "!pip install torch torchvision torchaudio\n",
        "\n",
        "# Verify the PyTorch installation\n",
        "import torch\n",
        "\n",
        "print(f\"PyTorch version: {torch.__version__}\")\n",
        "\n",
        "# Check if GPU is available and print the GPU name if it is\n",
        "if torch.cuda.is_available():\n",
        "    print(\"CUDA is available.\")\n",
        "    print(f\"GPU name: {torch.cuda.get_device_name(0)}\")\n",
        "else:\n",
        "    print(\"CUDA is not available. Running on CPU.\")\n",
        "\n",
        "# Create a simple tensor and perform an operation to further verify\n",
        "x = torch.rand(2, 3)\n",
        "print(\"\\nExample tensor:\")\n",
        "print(x)\n",
        "\n",
        "y = x * 2\n",
        "print(\"\\nTensor after multiplication:\")\n",
        "y"
      ],
      "metadata": {
        "colab": {
          "base_uri": "https://localhost:8080/"
        },
        "id": "XwKFZcy9aUA8",
        "outputId": "ba42d51d-0443-47cb-932a-287cbacfbed8"
      },
      "execution_count": null,
      "outputs": [
        {
          "output_type": "stream",
          "name": "stdout",
          "text": [
            "Requirement already satisfied: torch in /usr/local/lib/python3.11/dist-packages (2.6.0+cu124)\n",
            "Requirement already satisfied: torchvision in /usr/local/lib/python3.11/dist-packages (0.21.0+cu124)\n",
            "Requirement already satisfied: torchaudio in /usr/local/lib/python3.11/dist-packages (2.6.0+cu124)\n",
            "Requirement already satisfied: filelock in /usr/local/lib/python3.11/dist-packages (from torch) (3.18.0)\n",
            "Requirement already satisfied: typing-extensions>=4.10.0 in /usr/local/lib/python3.11/dist-packages (from torch) (4.14.0)\n",
            "Requirement already satisfied: networkx in /usr/local/lib/python3.11/dist-packages (from torch) (3.5)\n",
            "Requirement already satisfied: jinja2 in /usr/local/lib/python3.11/dist-packages (from torch) (3.1.6)\n",
            "Requirement already satisfied: fsspec in /usr/local/lib/python3.11/dist-packages (from torch) (2025.3.2)\n",
            "Requirement already satisfied: nvidia-cuda-nvrtc-cu12==12.4.127 in /usr/local/lib/python3.11/dist-packages (from torch) (12.4.127)\n",
            "Requirement already satisfied: nvidia-cuda-runtime-cu12==12.4.127 in /usr/local/lib/python3.11/dist-packages (from torch) (12.4.127)\n",
            "Requirement already satisfied: nvidia-cuda-cupti-cu12==12.4.127 in /usr/local/lib/python3.11/dist-packages (from torch) (12.4.127)\n",
            "Requirement already satisfied: nvidia-cudnn-cu12==9.1.0.70 in /usr/local/lib/python3.11/dist-packages (from torch) (9.1.0.70)\n",
            "Requirement already satisfied: nvidia-cublas-cu12==12.4.5.8 in /usr/local/lib/python3.11/dist-packages (from torch) (12.4.5.8)\n",
            "Requirement already satisfied: nvidia-cufft-cu12==11.2.1.3 in /usr/local/lib/python3.11/dist-packages (from torch) (11.2.1.3)\n",
            "Requirement already satisfied: nvidia-curand-cu12==10.3.5.147 in /usr/local/lib/python3.11/dist-packages (from torch) (10.3.5.147)\n",
            "Requirement already satisfied: nvidia-cusolver-cu12==11.6.1.9 in /usr/local/lib/python3.11/dist-packages (from torch) (11.6.1.9)\n",
            "Requirement already satisfied: nvidia-cusparse-cu12==12.3.1.170 in /usr/local/lib/python3.11/dist-packages (from torch) (12.3.1.170)\n",
            "Requirement already satisfied: nvidia-cusparselt-cu12==0.6.2 in /usr/local/lib/python3.11/dist-packages (from torch) (0.6.2)\n",
            "Requirement already satisfied: nvidia-nccl-cu12==2.21.5 in /usr/local/lib/python3.11/dist-packages (from torch) (2.21.5)\n",
            "Requirement already satisfied: nvidia-nvtx-cu12==12.4.127 in /usr/local/lib/python3.11/dist-packages (from torch) (12.4.127)\n",
            "Requirement already satisfied: nvidia-nvjitlink-cu12==12.4.127 in /usr/local/lib/python3.11/dist-packages (from torch) (12.4.127)\n",
            "Requirement already satisfied: triton==3.2.0 in /usr/local/lib/python3.11/dist-packages (from torch) (3.2.0)\n",
            "Requirement already satisfied: sympy==1.13.1 in /usr/local/lib/python3.11/dist-packages (from torch) (1.13.1)\n",
            "Requirement already satisfied: mpmath<1.4,>=1.1.0 in /usr/local/lib/python3.11/dist-packages (from sympy==1.13.1->torch) (1.3.0)\n",
            "Requirement already satisfied: numpy in /usr/local/lib/python3.11/dist-packages (from torchvision) (2.0.2)\n",
            "Requirement already satisfied: pillow!=8.3.*,>=5.3.0 in /usr/local/lib/python3.11/dist-packages (from torchvision) (11.2.1)\n",
            "Requirement already satisfied: MarkupSafe>=2.0 in /usr/local/lib/python3.11/dist-packages (from jinja2->torch) (3.0.2)\n",
            "PyTorch version: 2.6.0+cu124\n",
            "CUDA is not available. Running on CPU.\n",
            "\n",
            "Example tensor:\n",
            "tensor([[0.9447, 0.4429, 0.5255],\n",
            "        [0.6777, 0.1877, 0.0109]])\n",
            "\n",
            "Tensor after multiplication:\n"
          ]
        },
        {
          "output_type": "execute_result",
          "data": {
            "text/plain": [
              "tensor([[1.8894, 0.8859, 1.0511],\n",
              "        [1.3554, 0.3753, 0.0219]])"
            ]
          },
          "metadata": {},
          "execution_count": 1
        }
      ]
    },
    {
      "cell_type": "markdown",
      "source": [
        "6.How do you create a simple neural network in PyTorch?"
      ],
      "metadata": {
        "id": "594PDbdrae42"
      }
    },
    {
      "cell_type": "code",
      "source": [
        "import torch\n",
        "import torch.nn as nn\n",
        "\n",
        "# Define a simple neural network class that inherits from nn.Module\n",
        "class SimpleNN(nn.Module):\n",
        "    def __init__(self, input_size, hidden_size, num_classes):\n",
        "        super(SimpleNN, self).__init__()\n",
        "        # Define the layers\n",
        "        self.fc1 = nn.Linear(input_size, hidden_size) # First fully connected layer\n",
        "        self.relu = nn.ReLU()                         # ReLU activation function\n",
        "        self.fc2 = nn.Linear(hidden_size, num_classes) # Second fully connected layer\n",
        "\n",
        "    def forward(self, x):\n",
        "        # Define the forward pass\n",
        "        out = self.fc1(x)\n",
        "        out = self.relu(out)\n",
        "        out = self.fc2(out)\n",
        "        return out\n",
        "\n",
        "# Example Usage:\n",
        "# Define the parameters for the network\n",
        "input_size = 784    # e.g., for flattened MNIST images\n",
        "hidden_size = 128\n",
        "num_classes = 10    # e.g., for 10 classes in MNIST\n",
        "\n",
        "# Create an instance of the simple neural network\n",
        "model = SimpleNN(input_size, hidden_size, num_classes)\n",
        "\n",
        "# Print the model architecture\n",
        "print(model)\n",
        "\n",
        "# Create a dummy input tensor (batch size of 1, input size of 784)\n",
        "# In a real scenario, this would be your actual input data\n",
        "dummy_input = torch.randn(1, input_size)\n",
        "\n",
        "# Pass the dummy input through the model to see the output shape\n",
        "with torch.no_grad():\n",
        "    output = model(dummy_input)\n",
        "\n",
        "print(\"\\nOutput shape for dummy input:\")\n",
        "output.shape"
      ],
      "metadata": {
        "colab": {
          "base_uri": "https://localhost:8080/"
        },
        "id": "ozuHvuyresc3",
        "outputId": "e9d55f3a-97c3-4de2-de6b-7113bf7a50c5"
      },
      "execution_count": null,
      "outputs": [
        {
          "output_type": "stream",
          "name": "stdout",
          "text": [
            "SimpleNN(\n",
            "  (fc1): Linear(in_features=784, out_features=128, bias=True)\n",
            "  (relu): ReLU()\n",
            "  (fc2): Linear(in_features=128, out_features=10, bias=True)\n",
            ")\n",
            "\n",
            "Output shape for dummy input:\n"
          ]
        },
        {
          "output_type": "execute_result",
          "data": {
            "text/plain": [
              "torch.Size([1, 10])"
            ]
          },
          "metadata": {},
          "execution_count": 3
        }
      ]
    },
    {
      "cell_type": "markdown",
      "source": [
        "7.How do you define a loss function and optimizer in PyTorch?"
      ],
      "metadata": {
        "id": "0xfyUmNLe4K2"
      }
    },
    {
      "cell_type": "code",
      "source": [
        "criterion = nn.CrossEntropyLoss()\n",
        "\n",
        "optimizer = torch.optim.Adam(model.parameters(), lr=0.001)\n",
        "\n",
        "print(\"\\nLoss Function:\")\n",
        "print(criterion)\n",
        "\n",
        "print(\"\\nOptimizer:\")\n",
        "optimizer"
      ],
      "metadata": {
        "colab": {
          "base_uri": "https://localhost:8080/"
        },
        "id": "IB5b1QxsfL2N",
        "outputId": "24df5e6d-9d77-403f-e63e-701f8c5d55cc"
      },
      "execution_count": null,
      "outputs": [
        {
          "output_type": "stream",
          "name": "stdout",
          "text": [
            "\n",
            "Loss Function:\n",
            "CrossEntropyLoss()\n",
            "\n",
            "Optimizer:\n"
          ]
        },
        {
          "output_type": "execute_result",
          "data": {
            "text/plain": [
              "Adam (\n",
              "Parameter Group 0\n",
              "    amsgrad: False\n",
              "    betas: (0.9, 0.999)\n",
              "    capturable: False\n",
              "    differentiable: False\n",
              "    eps: 1e-08\n",
              "    foreach: None\n",
              "    fused: None\n",
              "    lr: 0.001\n",
              "    maximize: False\n",
              "    weight_decay: 0\n",
              ")"
            ]
          },
          "metadata": {},
          "execution_count": 5
        }
      ]
    },
    {
      "cell_type": "markdown",
      "source": [
        "8.How do you implement a custom loss function in PyTorch?"
      ],
      "metadata": {
        "id": "s5uyrCCefTcG"
      }
    },
    {
      "cell_type": "code",
      "source": [
        "class CustomMSELoss(nn.Module):\n",
        "    def __init__(self):\n",
        "        super(CustomMSELoss, self).__init__()\n",
        "\n",
        "    def forward(self, inputs, targets):\n",
        "        # Calculate the mean squared error\n",
        "        loss = torch.mean((inputs - targets) ** 2)\n",
        "        return loss\n",
        "\n",
        "# Example Usage:\n",
        "# Instantiate the custom loss function\n",
        "custom_loss_fn = CustomMSELoss()\n",
        "\n",
        "# Create dummy inputs and targets\n",
        "predictions = torch.randn(5, 1)\n",
        "true_values = torch.randn(5, 1)\n",
        "\n",
        "# Calculate the loss using the custom loss function\n",
        "loss = custom_loss_fn(predictions, true_values)\n",
        "\n",
        "print(\"\\nCustom MSE Loss:\")\n",
        "print(loss.item())"
      ],
      "metadata": {
        "colab": {
          "base_uri": "https://localhost:8080/"
        },
        "id": "E-0hndwxfvEZ",
        "outputId": "f48544e4-dd9d-42fe-d411-f0c61408ba53"
      },
      "execution_count": null,
      "outputs": [
        {
          "output_type": "stream",
          "name": "stdout",
          "text": [
            "\n",
            "Custom MSE Loss:\n",
            "3.9879956245422363\n"
          ]
        }
      ]
    },
    {
      "cell_type": "markdown",
      "source": [
        "9.How do you save and load a TensorFlow model?"
      ],
      "metadata": {
        "id": "W0m90B_rfxgX"
      }
    },
    {
      "cell_type": "code",
      "source": [
        "import torch\n",
        "\n",
        "# Define a filename for saving the model\n",
        "model_path = 'simple_nn_model.pth'\n",
        "\n",
        "# Save the model's state dictionary\n",
        "torch.save(model.state_dict(), model_path)\n",
        "\n",
        "print(f\"Model saved to {model_path}\")\n",
        "\n",
        "# To load the model, you first need to create an instance of the model class\n",
        "# with the same architecture as the saved model.\n",
        "# Assuming you have the SimpleNN class defined from earlier:\n",
        "loaded_model = SimpleNN(input_size, hidden_size, num_classes)\n",
        "\n",
        "# Load the saved state dictionary into the new model instance\n",
        "loaded_model.load_state_dict(torch.load(model_path))\n",
        "\n",
        "# Set the loaded model to evaluation mode if you are using it for inference\n",
        "loaded_model.eval()"
      ],
      "metadata": {
        "colab": {
          "base_uri": "https://localhost:8080/"
        },
        "id": "JuWAcWFcgIVx",
        "outputId": "02dd00d2-ebce-4b2d-95fc-5c511ac911a8"
      },
      "execution_count": null,
      "outputs": [
        {
          "output_type": "stream",
          "name": "stdout",
          "text": [
            "Model saved to simple_nn_model.pth\n"
          ]
        },
        {
          "output_type": "execute_result",
          "data": {
            "text/plain": [
              "SimpleNN(\n",
              "  (fc1): Linear(in_features=784, out_features=128, bias=True)\n",
              "  (relu): ReLU()\n",
              "  (fc2): Linear(in_features=128, out_features=10, bias=True)\n",
              ")"
            ]
          },
          "metadata": {},
          "execution_count": 13
        }
      ]
    }
  ]
}